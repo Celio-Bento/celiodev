{
  "nbformat": 4,
  "nbformat_minor": 0,
  "metadata": {
    "colab": {
      "provenance": [],
      "authorship_tag": "ABX9TyN8o/JXoPI+eXsVct83CRX0",
      "include_colab_link": true
    },
    "kernelspec": {
      "name": "python3",
      "display_name": "Python 3"
    },
    "language_info": {
      "name": "python"
    }
  },
  "cells": [
    {
      "cell_type": "markdown",
      "metadata": {
        "id": "view-in-github",
        "colab_type": "text"
      },
      "source": [
        "<a href=\"https://colab.research.google.com/github/Celio-Bento/celiodev/blob/main/Exercicios_Aula_10.ipynb\" target=\"_parent\"><img src=\"https://colab.research.google.com/assets/colab-badge.svg\" alt=\"Open In Colab\"/></a>"
      ]
    },
    {
      "cell_type": "code",
      "execution_count": null,
      "metadata": {
        "id": "E-A5My9BVU54"
      },
      "outputs": [],
      "source": []
    },
    {
      "cell_type": "markdown",
      "source": [
        "# **Aula 10 - Curso em Vídeo - Condicionais: Simples, Composta e Simplificada**"
      ],
      "metadata": {
        "id": "CP-Yrw43Vec6"
      }
    },
    {
      "cell_type": "markdown",
      "source": [
        "***Condição para apresentar uma mensagem diferenciada, caso o nome for igual ao alocado pelo sistema na variável \"nome\"***"
      ],
      "metadata": {
        "id": "0yAmUd3dV1Vk"
      }
    },
    {
      "cell_type": "code",
      "source": [
        "nome = str(input('Qual seu nome? '))\n",
        "if nome == 'Celio':\n",
        "   print('Que nome lindo!')\n",
        "else:\n",
        "   print('Seu nome é tão normal! ')\n",
        "print('Bom Dia, {} !'.format(nome))"
      ],
      "metadata": {
        "id": "RkiquvJ3VaPG"
      },
      "execution_count": null,
      "outputs": []
    },
    {
      "cell_type": "markdown",
      "source": [
        "***Calcula média e apresenta se o aluno foi aprovado ou reprovado.***"
      ],
      "metadata": {
        "id": "ZQGwUea-WWW7"
      }
    },
    {
      "cell_type": "code",
      "source": [
        "n1 = float(input('Digite a primeira nota: '))\n",
        "n2 = float(input('Digite a segunda nota: '))\n",
        "m = (n1+n2)/2\n",
        "if m>=7:\n",
        "  print('Sua média é: {:.1f}'.format(m))\n",
        "  print('Parabéns você está Aprovado !!! ')\n",
        "else:\n",
        "  print('Sua média é: {:.1f}'.format(m))\n",
        "  print('Infelizmente você está Reprovado! ')"
      ],
      "metadata": {
        "id": "cJnrsIFOVwHE"
      },
      "execution_count": null,
      "outputs": []
    },
    {
      "cell_type": "markdown",
      "source": [
        "**Exercício 28:** Escreva um programa que faça o computador \"pensar\" em um número inteiro de 0 e 5 e peça para o usuário tentar descobrir qual foi o número escolhido pelo computador.\n",
        "O programa deverá escrever na tela se o usuário venceu ou perdeu."
      ],
      "metadata": {
        "id": "5m6Rz85BWk-O"
      }
    },
    {
      "cell_type": "code",
      "source": [
        "import random\n",
        "num_cpu = random.randint(1,5)\n",
        "num_usuario = int(input('Entre 1 e 5 qual o número que estou pensando? '))\n",
        "if num_usuario == num_cpu:\n",
        "  print('O número que eu pensei foi: {}'.format(num_cpu))\n",
        "  print('Você digiou o número {}'.format(num_usuario))\n",
        "  print('Você Acertou')\n",
        "else:\n",
        "  print('O número que eu pensei foi: {}'.format(num_cpu))\n",
        "  print('Você digitou o número {}'.format(num_usuario))\n",
        "  print('Você Perdeu')"
      ],
      "metadata": {
        "colab": {
          "base_uri": "https://localhost:8080/"
        },
        "id": "GIPWRhjBWjDi",
        "outputId": "87671dfc-7991-4ebd-d8e3-5822385adb6b"
      },
      "execution_count": null,
      "outputs": [
        {
          "output_type": "stream",
          "name": "stdout",
          "text": [
            "Entre 1 e 5 qual o número que estou pensando? 2\n",
            "O número que eu pensei foi: 3\n",
            "Você digitou o número 2\n",
            "Você Perdeu\n"
          ]
        }
      ]
    },
    {
      "cell_type": "markdown",
      "source": [
        "**Exercício 29:** Escreva um programa que leia a velocidade de um carro.\n",
        "Se ultrapassar 80km/h, mostre uma mensagem que ele foi multado.\n",
        "A multa vai custar R$ 7,00 por km acima do limite."
      ],
      "metadata": {
        "id": "QYf02P9ZrkYx"
      }
    },
    {
      "cell_type": "code",
      "source": [
        "velocidade = float(input('Qual a velocidade do carro? '))\n",
        "limite = 80\n",
        "if (velocidade > limite):\n",
        "  print('A velocidade permitida neste local é de {:.1f} km/h '.format(limite))\n",
        "  print('A velocidade atingida pelo seu carro foi de {:.1f} km/h '.format(velocidade))\n",
        "  multa = (velocidade - limite)*7\n",
        "  print('Você foi multado em {:.2f} '.format(multa))\n",
        "else:\n",
        "  print('Parabéns, você respeitou o limite de velocidade. ')"
      ],
      "metadata": {
        "colab": {
          "base_uri": "https://localhost:8080/"
        },
        "id": "n-Pp_1KqrOXh",
        "outputId": "16a34985-edb8-482e-cc6d-0320b82bf15c"
      },
      "execution_count": null,
      "outputs": [
        {
          "output_type": "stream",
          "name": "stdout",
          "text": [
            "Qual a velocidade do carro? 90\n",
            "A velocidade permitida neste local é de 80.0 km/h \n",
            "A velocidade atingida pelo seu carro foi de 90.0 km/h \n",
            "Você foi multado em 70.00 \n"
          ]
        }
      ]
    },
    {
      "cell_type": "markdown",
      "source": [
        "**Exercício 30:** Crie um programa que leia um número inteiro e mostre na tela se ele é PAR ou ÍMPAR"
      ],
      "metadata": {
        "id": "ykfQ87euMvTb"
      }
    },
    {
      "cell_type": "code",
      "source": [
        "num = int(input('Digite um número inteiro: '))\n",
        "\n",
        "if (num %2) == 0:\n",
        "   print('O número que você digitou foi {}: '.format(num))\n",
        "   print('E esse número é par')\n",
        "else:\n",
        "    print('O número que você digitou foi {}: '.format(num))\n",
        "    print('O número digitado é Ímpar')\n"
      ],
      "metadata": {
        "id": "RYoKKFeGM8CR",
        "colab": {
          "base_uri": "https://localhost:8080/"
        },
        "outputId": "dac5d66d-1032-4442-87ef-af633feb0ada"
      },
      "execution_count": 7,
      "outputs": [
        {
          "output_type": "stream",
          "name": "stdout",
          "text": [
            "Digite um número inteiro: 10\n",
            "O número que você digitou foi 10: \n",
            "E esse número é par\n"
          ]
        }
      ]
    },
    {
      "cell_type": "markdown",
      "source": [],
      "metadata": {
        "id": "wh7dtFO5pF8C"
      }
    },
    {
      "cell_type": "markdown",
      "source": [
        "**Exercício 31:** Desenvolva um Programa que pergunte a distância de uma viagem em km. Calcule o preço da passagem, cobrando 0,50 para viagens de até 200km e 0,45 para viagens mais longas\n"
      ],
      "metadata": {
        "id": "9-uX3puEnY2N"
      }
    },
    {
      "cell_type": "code",
      "source": [
        "distancia = float(input('Qual a distância da viagem em km? '))\n",
        "if distancia <= 200:\n",
        "  print('A distância da viagem é de {:.2f} km'.format(distancia))\n",
        "  print('O preço da passagem é de R$ 0,50 por km')\n",
        "  preco = distancia*0.50\n",
        "  print('O preço da passagem é de R$ {:.2f}'.format(preco))\n",
        "else:\n",
        "  print('A distância da viagem é de {:.2f} km'.format(distancia))\n",
        "  print('O preço da passagem é de R$ 0,45 por km')\n",
        "  preco = distancia*0.45\n",
        "  print('O preço da passagem é de R$ {:.2f}'.format(preco))\n",
        ""
      ],
      "metadata": {
        "colab": {
          "base_uri": "https://localhost:8080/"
        },
        "id": "f1ebw-9uoOGv",
        "outputId": "b35883aa-1e12-4389-edb4-0a7acd2b246f"
      },
      "execution_count": 2,
      "outputs": [
        {
          "output_type": "stream",
          "name": "stdout",
          "text": [
            "Qual a distância da viagem em km? 201\n",
            "A distância da viagem é de 201.00 km\n",
            "O preço da passagem é de R$ 0,45 por km\n",
            "O preço da passagem é de R$ 90.45\n"
          ]
        }
      ]
    },
    {
      "cell_type": "markdown",
      "source": [
        "Custo do percurso de uma viagem"
      ],
      "metadata": {
        "id": "jEE2LzBHh_rI"
      }
    },
    {
      "cell_type": "code",
      "source": [
        "distancia = float(input('Qual a distância da viagem em km? '))\n",
        "preco = float(input('Qual o preço do combustível?'))\n",
        "viagem = distancia*preco\n",
        "print('O preço da viagem será de R$ {:.2f}'.format(viagem))"
      ],
      "metadata": {
        "colab": {
          "base_uri": "https://localhost:8080/"
        },
        "id": "MeHMqBnPhMFg",
        "outputId": "380a9a47-83b2-4617-f611-33aa6008d249"
      },
      "execution_count": 3,
      "outputs": [
        {
          "output_type": "stream",
          "name": "stdout",
          "text": [
            "Qual a distância da viagem em km? 500\n",
            "Qual o preço do combustível?6.25\n",
            "O preço da viagem será de R$ 3125.00\n"
          ]
        }
      ]
    },
    {
      "cell_type": "markdown",
      "source": [
        "**Exercício 32:** Faça um programa que leia um ano qualquer e mostre se ele é bissexto:"
      ],
      "metadata": {
        "id": "7sn2Bte8iO-h"
      }
    },
    {
      "cell_type": "code",
      "source": [
        "ano = int(input('Digite um ano: '))\n",
        "if (ano %4) == 0:\n",
        "  print('O ano {} é bissexto'.format(ano))\n",
        "else:\n",
        "  print('O ano {} não é bissexto'.format(ano))"
      ],
      "metadata": {
        "colab": {
          "base_uri": "https://localhost:8080/"
        },
        "id": "BUIvy9VtiJvc",
        "outputId": "32f198e6-ff0c-4585-a0e3-38622f0440fd"
      },
      "execution_count": 5,
      "outputs": [
        {
          "output_type": "stream",
          "name": "stdout",
          "text": [
            "Digite um ano: 2021\n",
            "O ano 2021 não é bissexto\n"
          ]
        }
      ]
    },
    {
      "cell_type": "markdown",
      "source": [
        "**Exercício 33:** Faça um programa que leia três números e mostre qual é o maior e qual é o menor:"
      ],
      "metadata": {
        "id": "42nJ992bjVj1"
      }
    },
    {
      "cell_type": "code",
      "source": [
        "num1 = int(input('Digite o primeiro número: '))\n",
        "num2 = int(input('Digite o segundo número: '))\n",
        "num3 = int(input('Digite o terceiro número: '))\n",
        "maior = num1\n",
        "if (num2> maior):\n",
        "  maior = num2\n",
        "if (num3> maior):\n",
        "  maior = num3\n",
        "print('O maior número é o {} '.format(maior))\n",
        "\n",
        "menor = num1\n",
        "if(num2< menor):\n",
        "  menor = num2\n",
        "if(num3< menor):\n",
        "  menor = num3\n",
        "print('O menor número é o {} '.format(menor))\n"
      ],
      "metadata": {
        "colab": {
          "base_uri": "https://localhost:8080/"
        },
        "id": "XUU7BdqPknkj",
        "outputId": "0dc2470a-2517-4f5f-ded7-db8067ab64ac"
      },
      "execution_count": 10,
      "outputs": [
        {
          "output_type": "stream",
          "name": "stdout",
          "text": [
            "Digite o primeiro número: 45\n",
            "Digite o segundo número: 90\n",
            "Digite o terceiro número: 5\n",
            "O maior número é o 90 \n",
            "O menor número é o 5 \n"
          ]
        }
      ]
    },
    {
      "cell_type": "markdown",
      "source": [
        "**Exercício 34**: Faça um programa que pergunte o salário de um funcionário e calcule o valor do seu aumento.\n",
        "Para salários superiores a R$ 1.500,00 calcule um aumento de 10%.\n",
        "Para salários inferiores ou igual, calcule um aumento de 15%"
      ],
      "metadata": {
        "id": "IegPbMTeppFc"
      }
    },
    {
      "cell_type": "code",
      "source": [
        "salario = float(input('Qual o salário do funcionário? '))\n",
        "if salario > 1500:\n",
        "  print('O salário é superior a R$ 1.500,00')\n",
        "  aumento = salario*0.10\n",
        "  print('O aumento será de R$ {:.2f}'.format(aumento))\n",
        "  novo_salario = salario + aumento\n",
        "  print('O novo salário será de R$ {:.2f}'.format(novo_salario))\n",
        "else:\n",
        "  print('O salário é inferior ou igual a R$ 1.500,00')\n",
        "  aumento = salario*0.15\n",
        "  print('O aumento será de R$ {:.2f}'.format(aumento))\n",
        "  novo_salario = salario + aumento\n",
        "  print('O novo salário será de R$ {:.2f}'.format(novo_salario))\n"
      ],
      "metadata": {
        "colab": {
          "base_uri": "https://localhost:8080/"
        },
        "id": "AMXQ-5gMqL0Z",
        "outputId": "42c33ea6-2889-4c47-c95f-b09fa32a774f"
      },
      "execution_count": 13,
      "outputs": [
        {
          "output_type": "stream",
          "name": "stdout",
          "text": [
            "Qual o salário do funcionário? 3000\n",
            "O salário é superior a R$ 1.500,00\n",
            "O aumento será de R$ 300.00\n",
            "O novo salário será de R$ 3300.00\n"
          ]
        }
      ]
    },
    {
      "cell_type": "markdown",
      "source": [
        "**Exercício 35:** Desenvolva um programa que leia o comprimento de 3 retas e mostre para o usuário se elas podem ou não formar um triângulo"
      ],
      "metadata": {
        "id": "ZvIDs01lrusL"
      }
    },
    {
      "cell_type": "code",
      "source": [
        "reta1 = float(input('Digite o comprimento da primeira reta: '))\n",
        "reta2 = float(input('Digite o comprimento da segunda reta: '))\n",
        "reta3 = float(input('Digite o comprimento da terceira reta: '))\n",
        "if (reta1 + reta2 < reta3) or (reta1 + reta3 < reta2) or (reta2 + reta3 < reta1):\n",
        "  print('Essas retas não podem formar um triângulo')\n",
        "elif (reta1 == reta2) and (reta2 == reta3):\n",
        "  print('Essas retas podem formar um triângulo equilátero')\n",
        "elif (reta1==reta2) or (reta1==reta3) or (reta2==reta3):\n",
        "  print('Essas retas podem formar um triângulo isósceles')\n",
        "else:\n",
        "  print('Essas retas podem formar um triângul Escaleno. ')"
      ],
      "metadata": {
        "colab": {
          "base_uri": "https://localhost:8080/"
        },
        "id": "VmSXQLrpsXA1",
        "outputId": "7a7e86da-f540-4cb3-c67d-da1270ba2d8a"
      },
      "execution_count": 16,
      "outputs": [
        {
          "output_type": "stream",
          "name": "stdout",
          "text": [
            "Digite o comprimento da primeira reta: 5\n",
            "Digite o comprimento da segunda reta: 9\n",
            "Digite o comprimento da terceira reta: 45\n",
            "Essas retas não podem formar um triângulo\n"
          ]
        }
      ]
    }
  ]
}