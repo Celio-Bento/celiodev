{
  "nbformat": 4,
  "nbformat_minor": 0,
  "metadata": {
    "colab": {
      "provenance": [],
      "authorship_tag": "ABX9TyNSOXTMfPnzjjcaa08vLw8K",
      "include_colab_link": true
    },
    "kernelspec": {
      "name": "python3",
      "display_name": "Python 3"
    },
    "language_info": {
      "name": "python"
    }
  },
  "cells": [
    {
      "cell_type": "markdown",
      "metadata": {
        "id": "view-in-github",
        "colab_type": "text"
      },
      "source": [
        "<a href=\"https://colab.research.google.com/github/Celio-Bento/celiodev/blob/main/Aula_11_cores.ipynb\" target=\"_parent\"><img src=\"https://colab.research.google.com/assets/colab-badge.svg\" alt=\"Open In Colab\"/></a>"
      ]
    },
    {
      "cell_type": "markdown",
      "source": [
        "**Como colocar cores ANSI no python**"
      ],
      "metadata": {
        "id": "wbeuirnfRtOY"
      }
    },
    {
      "cell_type": "code",
      "execution_count": null,
      "metadata": {
        "colab": {
          "base_uri": "https://localhost:8080/"
        },
        "id": "vEe5wgNDRmef",
        "outputId": "3f2f5925-8a97-4d6d-b104-77c30d396253"
      },
      "outputs": [
        {
          "output_type": "stream",
          "name": "stdout",
          "text": [
            "\u001b;[4;30;43mOlá Mundo!!!\u001b[m\n",
            "\u001b[4;33;44mOlá Mundo!!!\u001b[m\n",
            "\u001b[7;30mOlá Mundo!!!\u001b[m\n",
            "\u001b[7;33;44mOlá Mundo!!!\u001b[m\n"
          ]
        }
      ],
      "source": [
        "# Colocando cores ANSI no Python\n",
        "new_var = print('\\033;[4;30;43mOlá Mundo!!!\\033[m')\n",
        "new_var = print('\\033[4;33;44mOlá Mundo!!!\\033[m')\n",
        "new_var = print('\\033[7;30mOlá Mundo!!!\\033[m')\n",
        "new_var = print('\\033[7;33;44mOlá Mundo!!!\\033[m')"
      ]
    },
    {
      "cell_type": "code",
      "source": [
        "a = 3\n",
        "b = 5\n",
        "print('Os valores são \\033[4;33m{}\\033[m e \\033[34m{}\\033[m!!!'.format(a, b))"
      ],
      "metadata": {
        "colab": {
          "base_uri": "https://localhost:8080/"
        },
        "id": "SP1S93oxTDct",
        "outputId": "9898d26a-6d03-4944-af0a-3c4be7bf1442"
      },
      "execution_count": null,
      "outputs": [
        {
          "output_type": "stream",
          "name": "stdout",
          "text": [
            "Os valores são \u001b[4;33m3\u001b[m e \u001b[34m5\u001b[m!!!\n"
          ]
        }
      ]
    },
    {
      "cell_type": "code",
      "source": [
        "nome = 'Celio'\n",
        "print('Olá! Muito prazer em te conhecer, {}{}{}!!!'.format('\\033[4;34m', nome, '\\033[m'))"
      ],
      "metadata": {
        "colab": {
          "base_uri": "https://localhost:8080/"
        },
        "id": "O19vUiQ7UvQF",
        "outputId": "30c620cf-15d5-46d7-ddd1-57c2f6268a80"
      },
      "execution_count": null,
      "outputs": [
        {
          "output_type": "stream",
          "name": "stdout",
          "text": [
            "Olá! Muito prazer em te conhecer, \u001b[4;34mCelio\u001b[m!!!\n"
          ]
        }
      ]
    },
    {
      "cell_type": "code",
      "source": [
        "nome = 'Celio'\n",
        "cores = {'limpa':'\\033[m',\n",
        "         'azul':'\\033[34m',\n",
        "         'amarelo':'\\033[33m',\n",
        "         'pretoebranco':'\\033[7;30m'}\n",
        "print('Olá! Muito prazer em te conhecer, {}{}{}!!!'.format(cores['pretoebranco'], nome, cores['limpa']))"
      ],
      "metadata": {
        "colab": {
          "base_uri": "https://localhost:8080/"
        },
        "id": "C2Jk9XwTVMQC",
        "outputId": "52d674b7-0962-4058-9507-b78b4cdaa295"
      },
      "execution_count": null,
      "outputs": [
        {
          "output_type": "stream",
          "name": "stdout",
          "text": [
            "Olá! Muito prazer em te conhecer, \u001b[7;30mCelio\u001b[m!!!\n"
          ]
        }
      ]
    }
  ]
}