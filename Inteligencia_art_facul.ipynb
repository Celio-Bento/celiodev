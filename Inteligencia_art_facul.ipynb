{
  "nbformat": 4,
  "nbformat_minor": 0,
  "metadata": {
    "colab": {
      "provenance": [],
      "authorship_tag": "ABX9TyP4rT/Nw2GhMEvKsuvx0FIB",
      "include_colab_link": true
    },
    "kernelspec": {
      "name": "python3",
      "display_name": "Python 3"
    },
    "language_info": {
      "name": "python"
    }
  },
  "cells": [
    {
      "cell_type": "markdown",
      "metadata": {
        "id": "view-in-github",
        "colab_type": "text"
      },
      "source": [
        "<a href=\"https://colab.research.google.com/github/Celio-Bento/celiodev/blob/main/Inteligencia_art_facul.ipynb\" target=\"_parent\"><img src=\"https://colab.research.google.com/assets/colab-badge.svg\" alt=\"Open In Colab\"/></a>"
      ]
    },
    {
      "cell_type": "markdown",
      "source": [],
      "metadata": {
        "id": "GkcbDY2Iym1U"
      }
    },
    {
      "cell_type": "markdown",
      "source": [
        "Faculdade Descomplica - Inteligência *Artificial*"
      ],
      "metadata": {
        "id": "PzGUhuNYyUK0"
      }
    },
    {
      "cell_type": "markdown",
      "source": [
        "1 - Faça um programa que receba um nome, endereço, idade, peso e altura e em seguida mostre todos os dados"
      ],
      "metadata": {
        "id": "ZaoRcd7CykLB"
      }
    },
    {
      "cell_type": "code",
      "source": [
        "nome = input(\"Digite seu nome: \")\n",
        "endereco = input(\"Digite seu endereço: \")\n",
        "try:\n",
        "    idade = int(input(\"Digite sua idade: \"))\n",
        "except:\n",
        "    print('Digite um número inteiro válido! ')\n",
        "peso = float(input(\"Digite seu peso: \"))\n",
        "altura = float(input(\"Digite sua altura: \"))\n",
        "\n",
        "print(\"Nome\", nome)\n",
        "print('Endereço', endereco)\n",
        "print('Idade', idade)\n",
        "print('Peso', peso)\n",
        "print('Altura',altura)"
      ],
      "metadata": {
        "colab": {
          "base_uri": "https://localhost:8080/"
        },
        "id": "4gJhsF5kygXD",
        "outputId": "476d2ac2-332a-44d3-8952-c5deefc5680a"
      },
      "execution_count": null,
      "outputs": [
        {
          "output_type": "stream",
          "name": "stdout",
          "text": [
            "Digite seu nome: Celio\n",
            "Digite seu endereço: Rua Oliveira\n",
            "Digite sua idade: 44\n",
            "Digite seu peso: 80\n",
            "Digite sua altura: 1.73\n",
            "Nome Celio\n",
            "Endereço Rua Oliveira\n",
            "Idade 44\n",
            "Peso 80.0\n",
            "Altura 1.73\n"
          ]
        }
      ]
    },
    {
      "cell_type": "markdown",
      "source": [
        "2 - Criando listas"
      ],
      "metadata": {
        "id": "pObl67jS3niU"
      }
    },
    {
      "cell_type": "code",
      "source": [
        "# Criando Lista\n",
        "l = [] #Cria Lista Vazia\n",
        "x = [10, 15, 20] # Cria uma lista com 3 elementos\n",
        "x.append(int(input(\"Digite um número: \"))) # Adiciona um elemento na lista\n",
        "\n",
        "#Imprimindo cada elemento da lista\n",
        "print(x[0]) #10\n",
        "print(x[1]) #15\n",
        "print(x[2]) #20\n",
        "\n",
        "#Incluindo um valor para lista 1:\n",
        "\n",
        "l.append('José')\n",
        "l.append('Maria')\n",
        "\n",
        "print(x) #[10, 15, 20]\n",
        "print(l) #['José', 'Maria']\n",
        "\n",
        "print(x[1:3]) #[15, 20]\n",
        "print(len(x)) #4\n",
        "del(x[1])\n",
        "print(x) # [10, 20, 8], pois excluiu o 15, que estava no indice 1\n",
        "\n",
        "\n"
      ],
      "metadata": {
        "colab": {
          "base_uri": "https://localhost:8080/"
        },
        "id": "5hr3Hsju3sna",
        "outputId": "41724611-ccc0-489a-df55-e101ba89ed09"
      },
      "execution_count": null,
      "outputs": [
        {
          "output_type": "stream",
          "name": "stdout",
          "text": [
            "Digite um número: 8\n",
            "10\n",
            "15\n",
            "20\n",
            "[10, 15, 20, 8]\n",
            "['José', 'Maria']\n",
            "[15, 20]\n",
            "4\n",
            "[10, 20, 8]\n"
          ]
        }
      ]
    },
    {
      "cell_type": "markdown",
      "source": [
        "Tupla"
      ],
      "metadata": {
        "id": "w3AMGTfx62k8"
      }
    },
    {
      "cell_type": "code",
      "source": [
        "tupla = (1,2,3,4,5)\n",
        "t1 = 'a','b','c', 40, 50\n",
        "print(tupla)\n",
        "print(t1)\n",
        "\n",
        "# Particionando uma tupla\n",
        "print(f'tupla[1:4]:{tupla[1:4]}')\n",
        "\n",
        "#Tupla com Lista\n",
        "t2 = (10, [20, 30, 40])\n",
        "print(f'tupla t2: {t2}')\n",
        "print(f'Tamanho da tupla t2: {len(t2)}')\n",
        "t2[1].append(50)\n",
        "print(f'tupla t2: {t2}')\n",
        "print(t2)"
      ],
      "metadata": {
        "colab": {
          "base_uri": "https://localhost:8080/"
        },
        "id": "TocwyKkM64vl",
        "outputId": "a6811519-32f1-480f-c964-c3a5560f78bd"
      },
      "execution_count": null,
      "outputs": [
        {
          "output_type": "stream",
          "name": "stdout",
          "text": [
            "(1, 2, 3, 4, 5)\n",
            "('a', 'b', 'c', 40, 50)\n",
            "tupla[1:4]:(2, 3, 4)\n",
            "tupla t2: (10, [20, 30, 40])\n",
            "Tamanho da tupla t2: 2\n",
            "tupla t2: (10, [20, 30, 40, 50])\n",
            "(10, [20, 30, 40, 50])\n"
          ]
        }
      ]
    },
    {
      "cell_type": "markdown",
      "source": [
        "Cadastro de Produtos"
      ],
      "metadata": {
        "id": "mzkXlzTl9MRk"
      }
    },
    {
      "cell_type": "code",
      "source": [
        "produtos = {'Lápis': 1.50,\n",
        "            'Caderno': 15.00,\n",
        "            'Caneta': 2.50,\n",
        "            'Borracha': 5.00}\n",
        "\n",
        "print(produtos)\n",
        "\n",
        "# Alterando preço do caderno\n",
        "produtos['Caderno'] = 20.00\n",
        "print(produtos)\n",
        "\n",
        "# Incluindo um produto\n",
        "produtos['Livro'] = 50.00\n",
        "print(produtos)\n",
        "\n",
        "print('Preço do Lápis: ', produtos['Lápis'])\n",
        "\n",
        "\n",
        "# Verificando se uma chave existe\n",
        "\n",
        "print('Caderno' in produtos)\n",
        "print('Gibi' in produtos)\n",
        "print(produtos.keys()) # Mostra as chaves\n",
        "print(produtos.values()) # Mostra os valores\n",
        "print(produtos.items()) # Mostra os itens\n",
        "del(produtos['Caderno'])\n",
        "print(produtos)\n",
        "\n",
        "\n",
        "\n",
        "\n",
        "print(produtos)"
      ],
      "metadata": {
        "colab": {
          "base_uri": "https://localhost:8080/"
        },
        "id": "w8TLQ3zP9PWn",
        "outputId": "f39a9396-9ed3-413e-8ab0-6b753f9adb9d"
      },
      "execution_count": null,
      "outputs": [
        {
          "output_type": "stream",
          "name": "stdout",
          "text": [
            "{'Lápis': 1.5, 'Caderno': 15.0, 'Caneta': 2.5, 'Borracha': 5.0}\n",
            "{'Lápis': 1.5, 'Caderno': 20.0, 'Caneta': 2.5, 'Borracha': 5.0}\n",
            "{'Lápis': 1.5, 'Caderno': 20.0, 'Caneta': 2.5, 'Borracha': 5.0, 'Livro': 50.0}\n",
            "Preço do Lápis:  1.5\n",
            "True\n",
            "False\n",
            "dict_keys(['Lápis', 'Caderno', 'Caneta', 'Borracha', 'Livro'])\n",
            "dict_values([1.5, 20.0, 2.5, 5.0, 50.0])\n",
            "dict_items([('Lápis', 1.5), ('Caderno', 20.0), ('Caneta', 2.5), ('Borracha', 5.0), ('Livro', 50.0)])\n",
            "{'Lápis': 1.5, 'Caneta': 2.5, 'Borracha': 5.0, 'Livro': 50.0}\n",
            "{'Lápis': 1.5, 'Caneta': 2.5, 'Borracha': 5.0, 'Livro': 50.0}\n"
          ]
        }
      ]
    }
  ]
}