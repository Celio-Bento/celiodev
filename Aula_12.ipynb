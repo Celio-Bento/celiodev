{
  "nbformat": 4,
  "nbformat_minor": 0,
  "metadata": {
    "colab": {
      "provenance": [],
      "authorship_tag": "ABX9TyMQQ/JAA0Y9RpkmWQAskbfC",
      "include_colab_link": true
    },
    "kernelspec": {
      "name": "python3",
      "display_name": "Python 3"
    },
    "language_info": {
      "name": "python"
    }
  },
  "cells": [
    {
      "cell_type": "markdown",
      "metadata": {
        "id": "view-in-github",
        "colab_type": "text"
      },
      "source": [
        "<a href=\"https://colab.research.google.com/github/Celio-Bento/celiodev/blob/main/Aula_12.ipynb\" target=\"_parent\"><img src=\"https://colab.research.google.com/assets/colab-badge.svg\" alt=\"Open In Colab\"/></a>"
      ]
    },
    {
      "cell_type": "markdown",
      "source": [
        "Exercício 36 - (Curso em Vídeo): Escreva um programa para aprovar um empréstimo bancário para compra de uma casa. O programa vai perguntar o **valor da casa, o salário do comprador e em quantos anos ele vai pagar**.\n",
        "**Calcule o valor da prestação mensal, sabendo que ela não pode exceder 30% do salário ou então o empréstimo será negado.**"
      ],
      "metadata": {
        "id": "SohrIOBPXukZ"
      }
    },
    {
      "cell_type": "code",
      "source": [
        "casa = float(input('Valor da casa: R$ '))\n",
        "salario = float(input('Salário do comprador: R$ '))\n",
        "anos = int(input('Quantos anos de financiamento? '))\n",
        "prestacao = casa / (anos * 12)\n",
        "minimo = salario * 30 / 100\n",
        "if prestacao <= minimo:\n",
        "   print('Emprestimo pode ser CONCEDIDO!')\n",
        "   print('Sua prestação ficará R$ {:.2f} mensais'.format(prestacao))\n",
        "else:\n",
        "   print('Empréstimo NEGADO')\n",
        "   print('Sua prestação ficaria R$ {:.2f} mensais, ultrapassando o limite de 30% da sua renda que é R$ {:.2f}'.format(prestacao, minimo))\n"
      ],
      "metadata": {
        "colab": {
          "base_uri": "https://localhost:8080/"
        },
        "id": "hirhTo6qZg6Y",
        "outputId": "18c6463e-f109-4396-f3b8-ead67c0fa3cc"
      },
      "execution_count": null,
      "outputs": [
        {
          "output_type": "stream",
          "name": "stdout",
          "text": [
            "Valor da casa: R$ 300000\n",
            "Salário do comprador: R$ 300000\n",
            "Quantos anos de financiamento? 10\n",
            "Emprestimo pode ser CONCEDIDO!\n",
            "Sua prestação ficará R$ 2500.00 mensais\n"
          ]
        }
      ]
    },
    {
      "cell_type": "markdown",
      "source": [
        "Exercício 37 (Curso em Vídeo): Escreva um programa que leia um número inteiro qualquer e peça para o usuário escolher qual será a base de conversão:\n",
        "1 - para binário\n",
        "2 - para octal\n",
        "3 - para hexadecimal"
      ],
      "metadata": {
        "id": "ItkhnDGMdbzl"
      }
    },
    {
      "cell_type": "code",
      "source": [
        "numero = int(input('Digite um número inteiro: '))\n",
        "print('''Escolha uma das opção para conversão deste número: )\n",
        "[ 1 ] Converter para BINÁRIO\n",
        "[ 2 ] Converter para OCTAL\n",
        "[ 3 ] Converter para HEXADECIMAL''')\n",
        "opcao = int(input('Sua opção: '))\n",
        "if opcao == 1:\n",
        "   print('{} convertido para BINÁRIO é igual a {}'.format(numero, bin(numero)[2:]))\n",
        "elif opcao == 2:\n",
        "   print('{} convertido para OCTAL é igual a {}'.format(numero, oct(numero)[2:]))\n",
        "\n",
        "elif opcao == 3:\n",
        "   print('{} convertido para HEXADECIMAL é igual a {}'.format(numero, hex(numero)[2:]))\n",
        "else:\n",
        "   print('Opção inválida, tente novamente')"
      ],
      "metadata": {
        "colab": {
          "base_uri": "https://localhost:8080/"
        },
        "id": "oy1cyvfcgmiW",
        "outputId": "6c451e18-81a1-46da-cdf3-76c81244f28e"
      },
      "execution_count": null,
      "outputs": [
        {
          "output_type": "stream",
          "name": "stdout",
          "text": [
            "Digite um número inteiro: 2\n",
            "Escolha uma das opção para conversão deste número: )\n",
            "[ 1 ] Converter para BINÁRIO\n",
            "[ 2 ] Converter para OCTAL\n",
            "[ 3 ] Converter para HEXADECIMAL\n",
            "Sua opção: 1\n",
            "2 convertido para BINÁRIO é igual a 10\n"
          ]
        }
      ]
    },
    {
      "cell_type": "markdown",
      "source": [
        "Exercício 038 (Curso em Vídeo): Escreva um programa que leia 2 números inteiros e compare-os mostrando na tela uma mensagem:\n",
        "\n"
      ],
      "metadata": {
        "id": "762GoiHTnHZC"
      }
    },
    {
      "cell_type": "code",
      "source": [
        "num1 = int(input('Digite o primeiro número: '))\n",
        "num2 = int(input('Digite o segundo número: '))\n",
        "\n",
        "if num1>num2:\n",
        "   print('O primeiro Valor é maior')\n",
        "   print('O segundo Valor é menor')\n",
        "\n",
        "elif num2>num1:\n",
        "   print('O segundo Valor é maior')\n",
        "   print('O primeiro Valor é menor')\n",
        "\n",
        "else:\n",
        "   print('Não existe valor maior. Os dois são iguais')"
      ],
      "metadata": {
        "id": "2ue8EK2UnKBp",
        "colab": {
          "base_uri": "https://localhost:8080/"
        },
        "outputId": "0950c371-480e-4c44-d2d9-e4e7dc17e60a"
      },
      "execution_count": null,
      "outputs": [
        {
          "output_type": "stream",
          "name": "stdout",
          "text": [
            "Digite o primeiro número: 1\n",
            "Digite o segundo número: 30\n",
            "O segundo Valor é maior\n",
            "O primeiro Valor é menor\n"
          ]
        }
      ]
    },
    {
      "cell_type": "markdown",
      "source": [
        "**Exercício 039** (Curso em Vídeo): Faça um programa que leia o ano de nascimento de um jovem e informe de acordo com sua idade:\n",
        "\n",
        "- Se ele ainda vai se alistar ao serviço militar\n",
        "- Se é hora de se alistar\n",
        "- Seu programa também deverá mostrar o tempo que falta ou que passou do prazo"
      ],
      "metadata": {
        "id": "1O82UHl5yR2d"
      }
    },
    {
      "cell_type": "code",
      "source": [
        "from datetime import date\n",
        "atual = date.today().year\n",
        "#data_formatada = atual.strftime('%d/%m/%Y') - Formatar uma data no formato brasileiro\n",
        "ano = int(input('Digite o ano de nascimento: '))\n",
        "idade = atual - ano\n",
        "if idade < 18:\n",
        "  print('Você ainda vai se alistar ao serviço militar')\n",
        "elif idade == 18:\n",
        "  print('Está na hora de se alistar ao serviço militar')\n",
        "elif idade <= 18:\n",
        "  print('Faltam {} ano(s) para você se alistar'.format(18-idade))\n",
        "else:\n",
        "  print('Você deveria ter se alistado há {} ano(s)'.format(idade-18))\n",
        "\n",
        "\n"
      ],
      "metadata": {
        "colab": {
          "base_uri": "https://localhost:8080/"
        },
        "id": "ebPHhcg80uiy",
        "outputId": "7b423836-a099-451a-b177-9c657f5a1dea"
      },
      "execution_count": null,
      "outputs": [
        {
          "output_type": "stream",
          "name": "stdout",
          "text": [
            "Digite o ano de nascimento: 2005\n",
            "Você deveria ter se alistado há 1 anos\n"
          ]
        }
      ]
    },
    {
      "cell_type": "markdown",
      "source": [
        "Exercício 40 (Curso em Vídeo) - Crie um programa que leia duas notas de um aluno e calcule sua média mostrando uma mensagem no final, de acordo com a média atingida:\n",
        "\n",
        "- Média abaixo de 5,0: reprovado\n",
        "- Média entre 5.0 e 6.9: em recuperação\n",
        "- média 7.0 ou superior: aprovado"
      ],
      "metadata": {
        "id": "---6ekLJ4oAN"
      }
    },
    {
      "cell_type": "code",
      "source": [
        "n1 = float(input('Digite a primeira nota: '))\n",
        "n2 = float(input('Digite a segunda nota: '))\n",
        "media = (n1+n2)/2\n",
        "if media < 5.0:\n",
        "    print('Sua média é {:.2f} '.format(media))\n",
        "    print('Você está REPROVADO(A)')\n",
        "elif media >= 5.0 and media <= 6.9:\n",
        "    print('Sua média é {:.2f}' . format(media))\n",
        "    print('Você está de RECUPERAÇÃO')\n",
        "else:\n",
        "    print('Sua média é {:.2f}'.format(media))\n",
        "    print('PARABÉNS! Você está APROVADO(A)')"
      ],
      "metadata": {
        "colab": {
          "base_uri": "https://localhost:8080/"
        },
        "id": "OyRFfsT45Zuk",
        "outputId": "e5897072-0ba9-40ab-f7a4-746bc71e9d04"
      },
      "execution_count": null,
      "outputs": [
        {
          "output_type": "stream",
          "name": "stdout",
          "text": [
            "Digite a primeira nota: 5\n",
            "Digite a segunda nota: 5\n",
            "Sua média é 5.00\n",
            "Você está de RECUPERAÇÃO\n"
          ]
        }
      ]
    },
    {
      "cell_type": "markdown",
      "source": [
        "Exercício 41 (Curso em Vídeo): A Confederação Nacional de Natação precisa de um programa que leia o ano de nascimento de um atleta e mostre sua categoria de acordo com sua idade:\n",
        "\n",
        "- Até 9 anos: Mirim\n",
        "- Até 14 anos: Infantil\n",
        "- Até 19 anos: Junior\n",
        "- Até 20 anos: Sênior\n",
        "- Acima: Master"
      ],
      "metadata": {
        "id": "ZEagS0TA76t0"
      }
    },
    {
      "cell_type": "code",
      "source": [
        "idade = int(input('Digite a idade do atleta: '))\n",
        "if idade <=9:\n",
        "   print('O Atleta tem {} ano(s) de idade'.format(idade))\n",
        "   print('Categoria MIRIM')\n",
        "elif idade > 9 and idade <= 14:\n",
        "   print('O Atleta tem {} ano(s) de idade.'.format(idade))\n",
        "   print('Categoria INFANTIL')\n",
        "elif idade >14 and idade <= 19:\n",
        "   print(' O Atleta tem {} ano(s) de idade'.format(idade))\n",
        "   print('Categoria JÚNIOR')\n",
        "elif idade > 19 and idade <= 20:\n",
        "   print('O Atleta tem {} ano(s) de idade'.format(idade))\n",
        "   print('Categoria SÊNIOR')\n",
        "else:\n",
        "   print('O Atleta tem {} ano(s) de idade'.format(idade))\n",
        "   print('Categoria MASTER')"
      ],
      "metadata": {
        "colab": {
          "base_uri": "https://localhost:8080/"
        },
        "id": "kwwiCWGD8nZJ",
        "outputId": "bf1e57a8-dd8d-442e-c907-f6b02c4f712f"
      },
      "execution_count": null,
      "outputs": [
        {
          "output_type": "stream",
          "name": "stdout",
          "text": [
            "Digite a idade do atleta: 12\n",
            "O Atleta tem 12 ano(s) de idade.\n",
            "Categoria INFANTIL\n"
          ]
        }
      ]
    },
    {
      "cell_type": "markdown",
      "source": [
        "Exercício 42 (Curso em Vídeo): Refaça o exercício 035 dos triângulos acrescentando o recurso de mostrar que tipo de triângulo será formado:\n",
        "\n",
        "- Equilatero (todos os lados iguais)\n",
        "- Isósceles (dois lados iguais)\n",
        "- Escaleno (todos os lados diferentes)"
      ],
      "metadata": {
        "id": "lSNOIyTGAK4S"
      }
    },
    {
      "cell_type": "code",
      "source": [
        "n1 = float(input('Digite o primeiro segmento: '))\n",
        "n2 = float(input('Digite o segundo segmento: '))\n",
        "n3 = float(input('Digite o terceiro segmento: '))\n",
        "if n1 < n2 + n3 and n2 < n1 + n3 and n3 < n1 + n2:\n",
        "   if n1 == n2 == n3:\n",
        "        print('Os segmentos acima formam um triângulo EQUILÁTERO')\n",
        "   elif n1 != n2 != n3 != n1:\n",
        "       print('Os segmentos acima formam um triângulo ESCALENO')\n",
        "   else:\n",
        "        print('Os segmentos acima formam um triângulo ISÓSCELES')\n",
        "else:\n",
        "   print('Os segmentos acima NÃO PODEM formar um triângulo')\n",
        "\n"
      ],
      "metadata": {
        "colab": {
          "base_uri": "https://localhost:8080/"
        },
        "id": "8ib-tkVfDT5Z",
        "outputId": "2b9edbed-fb26-4b27-c617-bf4b9e0ae260"
      },
      "execution_count": null,
      "outputs": [
        {
          "output_type": "stream",
          "name": "stdout",
          "text": [
            "Digite o primeiro segmento: 9\n",
            "Digite o segundo segmento: 10\n",
            "Digite o terceiro segmento: 11\n",
            "Os segmentos acima formam um triângulo ESCALENO\n"
          ]
        }
      ]
    },
    {
      "cell_type": "markdown",
      "source": [
        "Exercício 043 (Curso em Vídeo): Desenvolva uma lógica que leia o peso e a altura de uma pessoa e calcule o IMC e mostre seu status de acordo com a tabela abaixo:\n",
        "\n",
        "- 18.5 abaixo do peso\n",
        "- Entre 18.50 e 25 peso ideal\n",
        "- 26 até 30: Sobrepeso\n",
        "- 31 até 40: Obesidade\n",
        "- Acima de 40: Obesidade Mórbida"
      ],
      "metadata": {
        "id": "Ss79ldveGoeQ"
      }
    },
    {
      "cell_type": "code",
      "source": [
        "peso = float(input('Digite seu peso: '))\n",
        "altura = float(input('Digite sua altura: '))\n",
        "IMC = peso / (altura**2)\n",
        "if IMC < 18.5:\n",
        "   print('Seu IMC é de {:.2f} kg/m²'.format(IMC))\n",
        "   print('Você está abaixo do peso!')\n",
        "elif IMC >= 18.5 and IMC <= 25:\n",
        "   print('Seu IMC é de {:.2f} kg/m²'.format(IMC))\n",
        "   print('Parabéns! Você está no peso ideal!')\n",
        "elif IMC > 25 and IMC <= 30:\n",
        "   print('Seu IMC é de {:.2f} kg/m²'.format(IMC))\n",
        "   print(\"Atenção! Você está com sobrepeso!\")\n",
        "elif IMC > 30 and IMC <= 40:\n",
        "   print('Seu IMC é de {:.2f} kg/m²'.format(IMC))\n",
        "   print('Atenção! Você está com obesidade!')\n",
        "else:\n",
        "   print('Seu IMC é de {:.2f} kg/m²'.format(IMC))\n",
        "   print('Atenção! Você está com obesidade mórbida! Procure um Médico Urgente!')"
      ],
      "metadata": {
        "colab": {
          "base_uri": "https://localhost:8080/"
        },
        "id": "CZ0XTOJ7Hkla",
        "outputId": "5a98661d-1fbf-421d-c9f8-aaf6cb2e711b"
      },
      "execution_count": null,
      "outputs": [
        {
          "output_type": "stream",
          "name": "stdout",
          "text": [
            "Digite seu peso: 83\n",
            "Digite sua altura: 1.83\n",
            "Seu IMC é de 24.78 kg/m²\n",
            "Parabéns! Você está no peso ideal!\n"
          ]
        }
      ]
    },
    {
      "cell_type": "markdown",
      "source": [
        "Exercício 044 (Curso em Vídeo): Elabore um programa que calcule o valor a ser pago por um produto, considerando o seu preço normal e condição de pagamento:\n",
        "- A vista Dinheiro/Cheque: 10% de desconto\n",
        "- A vista no Cartão: 5% de desconto\n",
        "- Em 2 x no cartão: preço normal\n",
        "- 3 x ou mais no cartão: 20% de juros"
      ],
      "metadata": {
        "id": "G3DhfjBA5kOK"
      }
    },
    {
      "cell_type": "code",
      "source": [
        "produto = float(input('Digite o valor do produto: R$ '))\n",
        "dinheiro = produto - (produto * (10/100))\n",
        "cartao = produto - (produto * (5/100))\n",
        "parcela = produto / 2\n",
        "parcela2 = produto + (produto * (20/100))\n",
        "print('Escolha a forma de pagamento: ')\n",
        "print('[1] - Dinheiro/Cheque - Tem 10% de Desconto')\n",
        "print('[2] - Cartão - Tem 5% de Desconto')\n",
        "print('[3] - 2x no Cartão - Preço Normal')\n",
        "print('[4] - 3x ou mais no Cartão - Tem 20% de Acréscimo')\n",
        "opcao = int(input('Sua opção: '))\n",
        "if opcao == 1:\n",
        "   print('O valor do produto é de R$ {:.2f}'.format(dinheiro))\n",
        "elif opcao == 2:\n",
        "   print('O valor do produto é R$ {:.2f} '.format(cartao))\n",
        "elif opcao == 3:\n",
        "   print(' O valor total do produto é R$ {.:2f}, sendo parcelado em 2 x de R$ {:.2f}'.format(produto, parcela))\n",
        "else:\n",
        "   print('O valor total do produto é R$ {:.2f}, sendo parcelado em 3 x ou mais'.format(parcela2))\n",
        "\n"
      ],
      "metadata": {
        "colab": {
          "base_uri": "https://localhost:8080/"
        },
        "id": "kF0PMAn66cJj",
        "outputId": "f58c2742-029a-4868-936a-db371366b80f"
      },
      "execution_count": null,
      "outputs": [
        {
          "output_type": "stream",
          "name": "stdout",
          "text": [
            "Digite o valor do produto: R$ 3465\n",
            "Escolha a forma de pagamento: \n",
            "[1] - Dinheiro/Cheque - Tem 10% de Desconto\n",
            "[2] - Cartão - Tem 5% de Desconto\n",
            "[3] - 2x no Cartão - Preço Normal\n",
            "[4] - 3x ou mais no Cartão - Tem 20% de Acréscimo\n",
            "Sua opção: 1\n",
            "O valor do produto é de R$ 3118.50\n"
          ]
        }
      ]
    },
    {
      "cell_type": "markdown",
      "source": [
        "Exercício 045 (Curso em Vídeo): Crie um programa que faça o computador jogar jokenpô com você:"
      ],
      "metadata": {
        "id": "A4D2CPkiCc9v"
      }
    },
    {
      "cell_type": "code",
      "source": [
        "import random\n",
        "from time import sleep\n",
        "itens = ('Pedra', 'Papel', 'tesoura')\n",
        "computador = random.randint(0,2)\n",
        "print('-='*15)\n",
        "print('VAMOS JOGAR JOKENPO')\n",
        "print('-='*15)\n",
        "print(''' Escolha sua opção:\n",
        "      [0] Pedra\n",
        "      [1] Papel\n",
        "      [2] Tesoura''')\n",
        "jogador = int(input('Sua opção: '))\n",
        "print('JO')\n",
        "sleep(1)\n",
        "print('KEN')\n",
        "sleep(1)\n",
        "print('PO!!!')\n",
        "print('-='*15)\n",
        "print('O Computador jogou: {}'.format(itens[computador]))\n",
        "print('O Jogador jogou: {}'.format(itens[jogador]))\n",
        "if computador == 0:\n",
        "   if jogador == 0:\n",
        "      print('EMPATE')\n",
        "   if jogador == 1:\n",
        "      print('JOGADOR VENCEU')\n",
        "   if jogador == 2:\n",
        "      print('COMPUTADOR VENCEU')\n",
        "elif computador == 1:\n",
        "   if jogador == 0:\n",
        "      print('COMPUTADOR VENCEU')\n",
        "   if jogador == 1:\n",
        "      print('EMPATE')\n",
        "   if jogador == 2:\n",
        "      print('JOGADOR VENCEU')\n",
        "elif computador == 2:\n",
        "    if jogador == 0:\n",
        "      print('JOGADOR VENCEU')\n",
        "    if jogador == 1:\n",
        "      print('COMPUTADOR VENCEU')\n",
        "    if jogador == 2:\n",
        "      print('EMPATE')\n",
        "\n",
        "print('-='*15)\n",
        "\n",
        "\n",
        "\n",
        "\n",
        "\n",
        "\n",
        "\n",
        "\n",
        "\n"
      ],
      "metadata": {
        "colab": {
          "base_uri": "https://localhost:8080/"
        },
        "id": "XXg86VMsDCnl",
        "outputId": "f17b03bf-b876-495e-8253-69a7fe17eb93"
      },
      "execution_count": null,
      "outputs": [
        {
          "output_type": "stream",
          "name": "stdout",
          "text": [
            "-=-=-=-=-=-=-=-=-=-=-=-=-=-=-=\n",
            "VAMOS JOGAR JOKENPO\n",
            "-=-=-=-=-=-=-=-=-=-=-=-=-=-=-=\n",
            " Escolha sua opção:\n",
            "      [0] Pedra\n",
            "      [1] Papel\n",
            "      [2] Tesoura\n",
            "Sua opção: 0\n",
            "JO\n",
            "KEN\n",
            "PO!!!\n",
            "-=-=-=-=-=-=-=-=-=-=-=-=-=-=-=\n",
            "O Computador jogou: Pedra\n",
            "O Jogador jogou: Pedra\n",
            "EMPATE\n",
            "-=-=-=-=-=-=-=-=-=-=-=-=-=-=-=\n"
          ]
        }
      ]
    }
  ]
}